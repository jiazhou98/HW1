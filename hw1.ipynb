{
 "cells": [
  {
   "cell_type": "markdown",
   "metadata": {},
   "source": [
    "# CS 196 Spring 2017 Homework 1"
   ]
  },
  {
   "cell_type": "markdown",
   "metadata": {},
   "source": [
    "# Table of Contents\n",
    "---\n",
    "1. [Array Sum](#Array-Sum)\n",
    "2. [Factorial](#Factorial)\n",
    "3. [Combinatorics](#Combinatorics)\n",
    "4. [Linearity](#Linearity)\n",
    "5. [Is Palindrome?](#Is-Palindrome?)\n",
    "6. [N N times](#N-N-Times)\n",
    "7. [Is Prime?](#Is-Prime?)\n",
    "8. [Every Other Number Up to N](#Every-Other-Number-Up-To-N)\n",
    "9. [Provided Tests](#Provided-Tests)"
   ]
  },
  {
   "cell_type": "markdown",
   "metadata": {},
   "source": [
    "# Array Sum\n",
    "---\n",
    "Given an array, return the sum of its numbers.\n",
    "\n",
    "## Example(s):\n",
    "---\n",
    "* Example 1:\n",
    "    * Input: `[1, 2, 3]`\n",
    "\n",
    "    * Output: `6`\n",
    "  \n",
    "* Example 2:\n",
    "    * Input: `[3, 5, 2]`\n",
    "\n",
    "    * Output: `10`\n",
    "\n",
    "## Parameters\n",
    "-----------\n",
    "* `list` : `ar`\n",
    "    - list to be summed\n",
    "\n",
    "## Returns\n",
    "-------\n",
    "* `int`: Sum of the array\n"
   ]
  },
  {
   "cell_type": "code",
   "execution_count": 1,
   "metadata": {
    "collapsed": true
   },
   "outputs": [],
   "source": [
    "def sum(ar):\n",
    "    \"\"\"\n",
    "    Given an array find its sum.\n",
    "    \"\"\"\n",
    "    pass"
   ]
  },
  {
   "cell_type": "code",
   "execution_count": 2,
   "metadata": {
    "collapsed": false
   },
   "outputs": [],
   "source": [
    "def test_arraySum():\n",
    "    assert sum([3, 5, 2]) == 10\n",
    "    assert sum([1, 2, 3]) == 6\n",
    "    assert sum([]) == 0"
   ]
  },
  {
   "cell_type": "markdown",
   "metadata": {
    "collapsed": true
   },
   "source": [
    "# Factorial\n",
    "---\n",
    "Given a number n, return n factorial.\n",
    "\n",
    "## Restrictions\n",
    "---------------\n",
    "* `n` is non-negative.\n",
    "\n",
    "## Examples:\n",
    "-------------\n",
    "* Example 1:\n",
    "    * Input: `n = 5`\n",
    "\n",
    "    * Output: `120`\n",
    "\n",
    "* Example 2:\n",
    "    * Input: `n = 3`\n",
    "\n",
    "    * Output: `6`\n",
    "\n",
    "## Parameters\n",
    "-----------\n",
    "* `int` : `n`\n",
    "\n",
    "## Returns\n",
    "-------\n",
    "* `int`: `n` factorial\n"
   ]
  },
  {
   "cell_type": "code",
   "execution_count": 2,
   "metadata": {
    "collapsed": true
   },
   "outputs": [],
   "source": [
    "def factorial(n):\n",
    "    \"\"\"\n",
    "    Given a number find its factorial.\n",
    "    \"\"\"\n",
    "    pass"
   ]
  },
  {
   "cell_type": "code",
   "execution_count": 4,
   "metadata": {
    "collapsed": true
   },
   "outputs": [],
   "source": [
    "def test_factorial():\n",
    "    assert factorial(0) == 1\n",
    "    assert factorial(5) == 120\n",
    "    assert factorial(3) == 6"
   ]
  },
  {
   "cell_type": "markdown",
   "metadata": {},
   "source": [
    "# Combinatorics\n",
    "---\n",
    "\n",
    "Given two numbers, `m` and `n`, return `mCn`.\n",
    "\n",
    "## Example(s):\n",
    "-------------\n",
    "* Example 1:\n",
    "    * Input:\n",
    "        * `m = 5`\n",
    "        * `n = 1`\n",
    "\n",
    "     * Output: `5`\n",
    "\n",
    "* Example 2:\n",
    "    * Input:\n",
    "        * `m = 4`\n",
    "        * `n = 2`\n",
    "\n",
    "    * Output:\n",
    "        * `6`\n",
    "\n",
    "## Parameters\n",
    "-----------\n",
    "* `int` : `m`\n",
    "* `int` : `n`\n",
    "\n",
    "## Returns\n",
    "-------\n",
    "* `int`: result of `mCn`\n"
   ]
  },
  {
   "cell_type": "code",
   "execution_count": 3,
   "metadata": {
    "collapsed": true
   },
   "outputs": [],
   "source": [
    "def combinatorics(m, n):\n",
    "    \"\"\"\n",
    "    Given two numbers find mCn.\n",
    "    \"\"\"\n",
    "    pass"
   ]
  },
  {
   "cell_type": "code",
   "execution_count": 4,
   "metadata": {
    "collapsed": true
   },
   "outputs": [],
   "source": [
    "def test_combinatorics():\n",
    "    assert combinatorics(5, 1) == 5\n",
    "    assert combinatorics(4, 2) == 6\n",
    "    assert combinatorics(1, 1) == 1"
   ]
  },
  {
   "cell_type": "markdown",
   "metadata": {},
   "source": [
    "# Linearity\n",
    "---\n",
    "\n",
    "Given three arrays of integers representing points in 2 dimensions, `a`, `b`, and `c`,\n",
    "RETURN `True` if a line can be drawn through all three points, and RETURN `False` otherwise.\n",
    "\n",
    "## Restrictions\n",
    "------------\n",
    "The input will always be three arrays of integers, each of length 2. Any three such arrays\n",
    "may be supplied, which means the student will have to account for vertical and horizontal cases.\n",
    "\n",
    "## Examples:\n",
    "---------\n",
    "* Example 1:\n",
    "    * Input:\n",
    "        * `a = [0,0]`\n",
    "        * `b = [2,4]`\n",
    "        * `c = [6,10]`\n",
    "\n",
    "    * Output: `False`\n",
    "\n",
    "* Example 2:\n",
    "    * Input:\n",
    "        * `a = [1,3]`\n",
    "        * `b = [3,-1]`\n",
    "        * `c = [4,-3]`\n",
    "\n",
    "     * Output: `True`\n",
    "\n",
    "* Example 3:\n",
    "    * Input:\n",
    "        * `a = [3,3]`\n",
    "        * `b = [3,4]`\n",
    "        * `c = [3,7]`\n",
    "\n",
    "    * Output: `True`\n",
    "\n",
    "## Parameters\n",
    "----------\n",
    "* `list` : `a`\n",
    "  * One of the points being considered\n",
    "* `list` : `b`\n",
    "  * One of the points being considered\n",
    "* `list` : `c`\n",
    "  * One of the points being considered\n",
    "\n",
    "## Returns\n",
    "-------\n",
    "* `bool`: Should be `True` if all three points are collinear and `False` otherwise"
   ]
  },
  {
   "cell_type": "code",
   "execution_count": 7,
   "metadata": {
    "collapsed": true
   },
   "outputs": [],
   "source": [
    "def linearity(a, b, c):\n",
    "    \"\"\"\n",
    "    Given three points find whether they are collinear\n",
    "    \"\"\"\n",
    "    pass"
   ]
  },
  {
   "cell_type": "code",
   "execution_count": 8,
   "metadata": {
    "collapsed": true
   },
   "outputs": [],
   "source": [
    "def test_linearity():\n",
    "    assert linearity([3, 2], [2, 6], [-1, 18])\n",
    "    assert not linearity([1, 0], [1, 2], [2, 5])\n",
    "    assert linearity([1, 5], [-3, 9], [0, 6])"
   ]
  },
  {
   "cell_type": "markdown",
   "metadata": {},
   "source": [
    "# Is Palindrome?\n",
    "---\n",
    "\n",
    "Given a string, find whether if the string is a palindrome.\n",
    "\n",
    "## Example(s)\n",
    "----------\n",
    "* Example 1:\n",
    "    * Input: `\"amanaplanacanalpanama\"`\n",
    "\n",
    "    * Output: `True`\n",
    "\n",
    "* Example 2:\n",
    "    * Input: `\"S P A C E S S E C A P S\"`\n",
    "    \n",
    "    * Output: `True`\n",
    "\n",
    "* Example 3:\n",
    "    * Input: `\"These homeworks will get harder, so beware\"`\n",
    "\n",
    "    * Output: `False`\n",
    "\n",
    "## Parameters\n",
    "----------\n",
    "* `str` : `string`\n",
    "    * the string to check whether it is a palindrome or not\n",
    "\n",
    "## Returns\n",
    "-------\n",
    "* `Bool`: `True` if the string is a palindrome, `False` otherwise\n"
   ]
  },
  {
   "cell_type": "code",
   "execution_count": 9,
   "metadata": {
    "collapsed": true
   },
   "outputs": [],
   "source": [
    "def is_palindrome(string):\n",
    "    \"\"\"\n",
    "    Given a string, finds whether it is a palindrome or not\n",
    "    \"\"\"\n",
    "    pass"
   ]
  },
  {
   "cell_type": "code",
   "execution_count": 10,
   "metadata": {
    "collapsed": true
   },
   "outputs": [],
   "source": [
    "def test_is_palindrome():\n",
    "    assert is_palindrome(\"amanaplanacanalpanama\")\n",
    "    assert is_palindrome(\"S P A C E S S E C A P S\")\n",
    "    assert not is_palindrome(\"These homeworks will get harder, so beware\")"
   ]
  },
  {
   "cell_type": "markdown",
   "metadata": {},
   "source": [
    "# N N Times\n",
    "---\n",
    "Given a number `n`, append each number `k`, up till `n - 1`, `k` times\n",
    "\n",
    "## Example(s)\n",
    "----------\n",
    "* Example 1:\n",
    "    * `Input`: `5`\n",
    "    * `Output`: `\"1223334444\"`\n",
    "\n",
    "\n",
    "* Example 2:\n",
    "    * Input: `2`\n",
    "    * Output: `\"1\"`\n",
    "\n",
    "\n",
    "* Example 3:\n",
    "    * Input: `3`\n",
    "    * Output: `\"122\"`\n",
    "\n",
    "## Parameters\n",
    "----------\n",
    "* `int`: `n`\n",
    "    * The number N\n",
    "\n",
    "## Returns\n",
    "-------\n",
    "* `str` : a concated string where each number, k, up till N, is appended k times"
   ]
  },
  {
   "cell_type": "code",
   "execution_count": 9,
   "metadata": {
    "collapsed": true
   },
   "outputs": [],
   "source": [
    "def n_n_times(n):\n",
    "    \"\"\"\n",
    "    Given N, create a string where every number k from 1 to n - 1, appears K times\n",
    "    \"\"\"\n",
    "    pass"
   ]
  },
  {
   "cell_type": "code",
   "execution_count": 10,
   "metadata": {
    "collapsed": true
   },
   "outputs": [],
   "source": [
    "def test_n_n_times():\n",
    "    assert n_n_times(5) == \"1223334444\"\n",
    "    assert n_n_times(2) == \"1\"\n",
    "    assert n_n_times(3) == \"122\""
   ]
  },
  {
   "cell_type": "markdown",
   "metadata": {},
   "source": [
    "# Is Prime?\n",
    "Given a number n, return whether n is prime. A prime number is only evenly divisible by 1 and itself.\n",
    "\n",
    "## Restrictions\n",
    "------------\n",
    "You may assume that n is an integer such that 2 <= n < 2^64.\n",
    "\n",
    "## Example\n",
    "----------\n",
    "* Example 1\n",
    "    * Input: 23\n",
    "        * 23 is obviously prime.\n",
    "    * Output: False\n",
    "\n",
    "## Parameters\n",
    "----------\n",
    "* `int` : `n`\n",
    "    * the number to test for primality\n",
    "\n",
    "## Returns\n",
    "-------\n",
    "* `bool`: Whether the number `n` is prime"
   ]
  },
  {
   "cell_type": "code",
   "execution_count": 11,
   "metadata": {
    "collapsed": true
   },
   "outputs": [],
   "source": [
    "def is_prime(n):\n",
    "    \"\"\"\n",
    "    Given a number n, return whether n is prime.\n",
    "    \"\"\"\n",
    "    pass"
   ]
  },
  {
   "cell_type": "code",
   "execution_count": 12,
   "metadata": {
    "collapsed": true
   },
   "outputs": [],
   "source": [
    "def test_is_prime():\n",
    "    assert is_prime(2)\n",
    "    assert is_prime(5)\n",
    "    assert is_prime(8191)\n",
    "    assert is_prime(1299827)"
   ]
  },
  {
   "cell_type": "markdown",
   "metadata": {},
   "source": [
    "# Fibonacci\n",
    "\n",
    "Given a number `n`, return the nth Fibonacci number.\n",
    "The Fibonacci sequence is such that \"every number after the first two is the\n",
    "sum of the two preceding ones\" (Wikipedia)\n",
    "This problem uses the definition that F(0) = 0 and F(1) = 1; that is,\n",
    "the 0th Fibonacci number is 0 and the 1st (first) is 1.\n",
    "\n",
    "## Restrictions\n",
    "------------\n",
    "You may assume that n is an integer such that 0 <= n < 2^32.\n",
    "\n",
    "## Examples\n",
    "----------\n",
    "* Example 1:\n",
    "    * Input: 5\n",
    "        * The fifth Fibonacci number is 5. \n",
    "        \n",
    "            Observe: 0, 1, 1, 2, 3, 5\n",
    "    * Output: 5\n",
    "\n",
    "## Parameters\n",
    "----------\n",
    "* `int` : n\n",
    "    * The nth Fibonacci number to calculate.\n",
    "\n",
    "## Returns\n",
    "-------\n",
    "* `int`: The nth Fibonacci number"
   ]
  },
  {
   "cell_type": "code",
   "execution_count": 13,
   "metadata": {
    "collapsed": true
   },
   "outputs": [],
   "source": [
    "def fibonacci(n):\n",
    "    \"\"\"\n",
    "    Given a number n, return the nth Fibonacci number.\n",
    "    \"\"\"\n",
    "    pass"
   ]
  },
  {
   "cell_type": "code",
   "execution_count": 14,
   "metadata": {
    "collapsed": true
   },
   "outputs": [],
   "source": [
    "def test_fibonacci():\n",
    "    assert fibonacci(0) == 0\n",
    "    assert fibonacci(8) == 21\n",
    "    assert fibonacci(12) == 144\n",
    "    assert fibonacci(21) == 10946"
   ]
  },
  {
   "cell_type": "markdown",
   "metadata": {},
   "source": [
    "# EVERY OTHER NUMBER UP TO N\n",
    "\n",
    "Given a number, `n`, and another number, `m`, RETURN a list of every number from `n` to `m`, skipping every other number.\n",
    "\n",
    "## Example(s)\n",
    "----------\n",
    "* Example 1:\n",
    "    * Input: (5, 15)\n",
    "    * Output: [5, 7, 9, 11, 13, 15]\n",
    "\n",
    "* Example 2:\n",
    "    * Input: (4, 9)\n",
    "    * Output: [4, 6, 8]\n",
    "\n",
    "## Parameters\n",
    "----------\n",
    "* `int`: n\n",
    "    * The number to start counting from\n",
    "* `int`: m\n",
    "    * The number to end counting at\n",
    "\n",
    "## Returns:\n",
    "--------\n",
    "* list\n",
    "    * Every other number from `n` to `m`"
   ]
  },
  {
   "cell_type": "code",
   "execution_count": 15,
   "metadata": {
    "collapsed": true
   },
   "outputs": [],
   "source": [
    "def every_other_num(n, m):\n",
    "    \"\"\"\n",
    "    Return an list of every other number from n to m\n",
    "    \"\"\"\n",
    "    pass"
   ]
  },
  {
   "cell_type": "code",
   "execution_count": 16,
   "metadata": {
    "collapsed": true
   },
   "outputs": [],
   "source": [
    "def test_every_other_num():\n",
    "    assert every_other_num(1, 10000) == [x for x in range(1, 10001, 2)]\n",
    "    assert every_other_num(4, 15) == [x for x in range(4, 16, 2)]\n",
    "    assert every_other_num(1, 8) == [x for x in range(1, 9, 2)]"
   ]
  },
  {
   "cell_type": "markdown",
   "metadata": {},
   "source": [
    "# Provided Tests\n",
    "---\n",
    "Remember that these tests will not cover all of the edge cases. \n",
    "\n",
    "Do **not** assume that just because you pass everything here, you have finished.\n",
    "\n",
    "You are also free to write extra tests in here, or any of the test functions. We will not grade tests unless otherwise stated."
   ]
  },
  {
   "cell_type": "code",
   "execution_count": 17,
   "metadata": {
    "collapsed": false
   },
   "outputs": [],
   "source": [
    "def test_all():\n",
    "    test_arraySum()\n",
    "    test_factorial()\n",
    "    test_combinatorics()\n",
    "    test_linearity()\n",
    "    test_is_palindrome()\n",
    "    test_n_n_times()\n",
    "    test_is_prime()\n",
    "    test_fibonacci()\n",
    "    test_n_n_times()\n",
    "    test_every_other_num()\n",
    "    print(\"All tests passed!\")"
   ]
  },
  {
   "cell_type": "markdown",
   "metadata": {},
   "source": [
    "Run this to run all tests."
   ]
  },
  {
   "cell_type": "code",
   "execution_count": 33,
   "metadata": {
    "collapsed": false
   },
   "outputs": [
    {
     "name": "stdout",
     "output_type": "stream",
     "text": [
      "All tests passed!\n"
     ]
    }
   ],
   "source": [
    "test_all()"
   ]
  },
  {
   "cell_type": "code",
   "execution_count": null,
   "metadata": {
    "collapsed": true
   },
   "outputs": [],
   "source": []
  }
 ],
 "metadata": {
  "kernelspec": {
   "display_name": "Python 3",
   "language": "python",
   "name": "python3"
  },
  "language_info": {
   "codemirror_mode": {
    "name": "ipython",
    "version": 3
   },
   "file_extension": ".py",
   "mimetype": "text/x-python",
   "name": "python",
   "nbconvert_exporter": "python",
   "pygments_lexer": "ipython3",
   "version": "3.6.0"
  }
 },
 "nbformat": 4,
 "nbformat_minor": 2
}
